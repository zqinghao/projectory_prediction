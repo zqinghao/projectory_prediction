{
 "cells": [
  {
   "cell_type": "code",
   "execution_count": 89,
   "id": "varied-tokyo",
   "metadata": {},
   "outputs": [],
   "source": [
    "import numpy as np\n",
    "import matplotlib.pyplot as plt\n",
    "import sys\n",
    "\n",
    "# Value Index\n",
    "\n",
    "time_idx = 0\n",
    "x_idx = 1\n",
    "y_idx = 2\n",
    "\n",
    "# Default initial values\n",
    "\n",
    "vx_0 = 0.707106781187\n",
    "vy_0 = 0.658106781187\n",
    "\n",
    "# Uncomment below in .py file to read input from command line\n",
    "'''\n",
    "if sys.argv[1] != vx_0 or sys.argv[2] != vy_0:\n",
    "    vx_0 = sys.argv[1]\n",
    "    vy_0 = sys.argv[2]\n",
    "'''\n",
    "\n",
    "# Store data from the csv file\n",
    "\n",
    "data = []\n",
    "\n",
    "file = open('projectiles.csv', 'r')\n",
    "\n",
    "for line in file:\n",
    "    row = line.split(' , ')\n",
    "    data.append([int(row[time_idx]), float(row[x_idx]), float(row[y_idx])])\n",
    "\n",
    "file.close()\n",
    "#print(data)"
   ]
  },
  {
   "cell_type": "code",
   "execution_count": 90,
   "id": "pleasant-coordination",
   "metadata": {},
   "outputs": [],
   "source": [
    "# Establish X (input, (vx*t, vy*t, t^2, t, 1))\n",
    "\n",
    "X = []\n",
    "\n",
    "t = 1 # time\n",
    "count = -1 # No. of ith trajectory\n",
    "initial_vx = -1\n",
    "initial_vx = -1\n",
    "for point in data:\n",
    "    if point[time_idx] == 1:\n",
    "        initial_vx = point[x_idx]\n",
    "        initial_vy = point[y_idx]\n",
    "        vx_t = initial_vx\n",
    "        vy_t = initial_vy\n",
    "        X.append([vx_t, vy_t, t**2, t, 1])\n",
    "    elif point[time_idx] > 1:\n",
    "        vx_t = initial_vx * t\n",
    "        vy_t = initial_vy * t\n",
    "        X.append([vx_t, vy_t, t**2, t, 1])\n",
    "        t += 1\n",
    "    elif point[time_idx] == 0:\n",
    "        count += 1\n",
    "        t = 1\n",
    "        initial_vx = -1\n",
    "        initial_vx = -1\n",
    "#print(np.array(X))\n",
    "#print(np.array(X).shape)"
   ]
  },
  {
   "cell_type": "code",
   "execution_count": 91,
   "id": "educated-bandwidth",
   "metadata": {},
   "outputs": [],
   "source": [
    "# Establish Y (output, point (x,y))\n",
    "\n",
    "Y = []\n",
    "\n",
    "for point in data:\n",
    "    if point[time_idx] > 0:\n",
    "        Y.append([point[x_idx], point[y_idx]])\n",
    "#print(np.array(Y))"
   ]
  },
  {
   "cell_type": "code",
   "execution_count": 92,
   "id": "planned-theme",
   "metadata": {},
   "outputs": [],
   "source": [
    "# Calculate the least sqare solution B\n",
    "\n",
    "B = np.linalg.lstsq(np.array(X), np.array(Y), rcond=None)[0]\n",
    "#print(B)"
   ]
  },
  {
   "cell_type": "code",
   "execution_count": 94,
   "id": "chinese-nickname",
   "metadata": {},
   "outputs": [],
   "source": [
    "# Initialize the problem\n",
    "\n",
    "input_X = []\n",
    "for i in range(50): # Simulate 50 * 10 ms\n",
    "    vx_t = vx_0 * i\n",
    "    vy_t = vx_0 * i\n",
    "    input_X.append([vx_t, vy_t, i**2, i, 1])\n",
    "#print(input_X)"
   ]
  },
  {
   "cell_type": "code",
   "execution_count": 95,
   "id": "accessible-happiness",
   "metadata": {
    "scrolled": true
   },
   "outputs": [
    {
     "data": {
      "image/png": "[encoded data removed]",
      "text/plain": [
       "<Figure size 432x288 with 1 Axes>"
      ]
     },
     "metadata": {
      "needs_background": "light"
     },
     "output_type": "display_data"
    }
   ],
   "source": [
    "# Show results\n",
    "\n",
    "retval = np.dot(input_X, B)\n",
    "xy_split = retval.T\n",
    "\n",
    "result = []\n",
    "pos = 0\n",
    "for y in xy_split[1]:\n",
    "    if y > 0:         # Choose points above x axis\n",
    "        result.append([xy_split[0][pos], y])\n",
    "        pos += 1\n",
    "result = np.array(result)\n",
    "result_len = len(result)\n",
    "\n",
    "output = open('result.csv', 'w')\n",
    "for i in range(result_len):\n",
    "    output.write(str(i) + ' , '+ str(result[i][0])+ ' , ' + str(result[i][1]) + '\\n')\n",
    "output.close()\n",
    "    \n",
    "plt.scatter(result.T[0], result.T[1]) # result.T seperates x and y in two sub-array\n",
    "plt.show()"
   ]
  },
  {
   "cell_type": "code",
   "execution_count": null,
   "id": "adolescent-sharp",
   "metadata": {},
   "outputs": [],
   "source": [
    "# Refer to the necessary knowledge about numpy.linalg.lstsq at \n",
    "# https://numpy.org/doc/stable/reference/generated/numpy.linalg.lstsq.html#numpy.linalg.lstsq"
   ]
  }
 ],
 "metadata": {
  "kernelspec": {
   "display_name": "Python 3",
   "language": "python",
   "name": "python3"
  },
  "language_info": {
   "codemirror_mode": {
    "name": "ipython",
    "version": 3
   },
   "file_extension": ".py",
   "mimetype": "text/x-python",
   "name": "python",
   "nbconvert_exporter": "python",
   "pygments_lexer": "ipython3",
   "version": "3.8.3rc1"
  }
 },
 "nbformat": 4,
 "nbformat_minor": 5
}
